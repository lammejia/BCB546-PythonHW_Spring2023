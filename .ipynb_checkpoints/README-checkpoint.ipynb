{
 "cells": [
  {
   "cell_type": "code",
   "execution_count": 262,
   "id": "44156539",
   "metadata": {},
   "outputs": [],
   "source": [
    "from Bio import SeqIO"
   ]
  },
  {
   "cell_type": "code",
   "execution_count": 261,
   "id": "981a0d25",
   "metadata": {},
   "outputs": [],
   "source": [
    "from Bio.Data import CodonTable"
   ]
  },
  {
   "cell_type": "code",
   "execution_count": 277,
   "id": "12d6a663",
   "metadata": {},
   "outputs": [
    {
     "name": "stdout",
     "output_type": "stream",
     "text": [
      "Table 2 Vertebrate Mitochondrial, SGC1\n",
      "\n",
      "  |  T      |  C      |  A      |  G      |\n",
      "--+---------+---------+---------+---------+--\n",
      "T | TTT F   | TCT S   | TAT Y   | TGT C   | T\n",
      "T | TTC F   | TCC S   | TAC Y   | TGC C   | C\n",
      "T | TTA L   | TCA S   | TAA Stop| TGA W   | A\n",
      "T | TTG L   | TCG S   | TAG Stop| TGG W   | G\n",
      "--+---------+---------+---------+---------+--\n",
      "C | CTT L   | CCT P   | CAT H   | CGT R   | T\n",
      "C | CTC L   | CCC P   | CAC H   | CGC R   | C\n",
      "C | CTA L   | CCA P   | CAA Q   | CGA R   | A\n",
      "C | CTG L   | CCG P   | CAG Q   | CGG R   | G\n",
      "--+---------+---------+---------+---------+--\n",
      "A | ATT I(s)| ACT T   | AAT N   | AGT S   | T\n",
      "A | ATC I(s)| ACC T   | AAC N   | AGC S   | C\n",
      "A | ATA M(s)| ACA T   | AAA K   | AGA Stop| A\n",
      "A | ATG M(s)| ACG T   | AAG K   | AGG Stop| G\n",
      "--+---------+---------+---------+---------+--\n",
      "G | GTT V   | GCT A   | GAT D   | GGT G   | T\n",
      "G | GTC V   | GCC A   | GAC D   | GGC G   | C\n",
      "G | GTA V   | GCA A   | GAA E   | GGA G   | A\n",
      "G | GTG V(s)| GCG A   | GAG E   | GGG G   | G\n",
      "--+---------+---------+---------+---------+--\n"
     ]
    }
   ],
   "source": [
    "print(Bio.Data.CodonTable.unambiguous_dna_by_name[\"Vertebrate Mitochondrial\"]) #Analyze the mitochondria table"
   ]
  },
  {
   "cell_type": "code",
   "execution_count": 275,
   "id": "a01702a2",
   "metadata": {},
   "outputs": [],
   "source": [
    "import Bio.Data.CodonTable"
   ]
  },
  {
   "cell_type": "code",
   "execution_count": 131,
   "id": "ac57766b",
   "metadata": {},
   "outputs": [],
   "source": [
    "import pandas as pd"
   ]
  },
  {
   "cell_type": "code",
   "execution_count": 132,
   "id": "5adfa41f",
   "metadata": {},
   "outputs": [],
   "source": [
    "penguins = \"penguins_cytb.fasta\""
   ]
  },
  {
   "cell_type": "markdown",
   "id": "9d3dcb0e",
   "metadata": {},
   "source": [
    "1."
   ]
  },
  {
   "cell_type": "code",
   "execution_count": 133,
   "id": "00cd89cf",
   "metadata": {},
   "outputs": [],
   "source": [
    "def get_sequences_from_file(fasta_fn): #Defining a function\n",
    "    sequence_data_dict = {}    #setting the directory which we will be inputting our work\n",
    "    for record in SeqIO.parse(fasta_fn, \"fasta\"):\n",
    "        description = record.description.split() #Parsing the file and then splitting it into 2 \n",
    "        species_name = description[1] + \" \" + description[2] #separating the species name from the sequence\n",
    "        sequence_data_dict[species_name] = record.seq #Sets the species name as the first thing being displayed while the sequence is added.\n",
    "    return(sequence_data_dict)"
   ]
  },
  {
   "cell_type": "code",
   "execution_count": 145,
   "id": "e0ce7bfc",
   "metadata": {},
   "outputs": [
    {
     "data": {
      "text/plain": [
       "{'Aptenodytes forsteri': Seq('ATGGCCCCAAATCTCCGAAAATCCCATCCCCTCCTAAAAATAATTAATAACTCC...TAA'),\n",
       " 'Aptenodytes patagonicus': Seq('ATGGCCCCAAACCTCCGAAAATCCCATCCTCTCCTAAAAATAATTAATAACTCC...TAA'),\n",
       " 'Eudyptes chrysocome': Seq('ATGGCCCCCAACCTCCGAAAATCCCACCCCCTCCTAAAAACAATCAATAACTCC...TAA'),\n",
       " 'Eudyptes chrysolophus': Seq('ATGGCCCCCAACCTCCGAAAATCCCACCCCCTCCTAAAAACAATCAATAACTCC...TAA'),\n",
       " 'Eudyptes sclateri': Seq('ATGGCCCCCAACCTCCGAAAATCCCACCCCCTCCTAAAAACAATCAATAACTCC...TAA'),\n",
       " 'Eudyptula minor': Seq('ATGGCCCCCAACCTCCGAAAATCTCACCCCCTCCTAAAAATAATCAACAACTCT...TAA'),\n",
       " 'Pygoscelis adeliae': Seq('ATGGCCCCCAACCTCCGAAAATCCCACCCTCTCCTAAAAATAATTAACAACTCC...TAA'),\n",
       " 'Pygoscelis antarctica': Seq('ATGGCCCCCAACCTCCGAAAATCCCACCCTCTCCTAAAAATAATCAACAACTCC...TAG'),\n",
       " 'Pygoscelis papua': Seq('ATGGCCCCCAACCTTCGAAAATCCCACCCTCTCCTAAAAATAATCAACAAATCC...TAG'),\n",
       " 'Spheniscus demersus': Seq('ATGGCCCCCAACCTCCGAAAATCCCACCCTCTCCTAAAAACAATCAACAACTCC...TAA'),\n",
       " 'Spheniscus humboldti': Seq('ATGGCCCCCAACCTCCGAAAATCCCACCCTCTCCTAAAAACAATCAACAACTCC...TAA'),\n",
       " 'Spheniscus magellanicus': Seq('ATGGCCCCCAACCTCCGAAAATCCCACCCTCTCCTAAAAACAATCAACAACTCC...TAA')}"
      ]
     },
     "execution_count": 145,
     "metadata": {},
     "output_type": "execute_result"
    }
   ],
   "source": [
    "get_sequences_from_file(penguins) #checking to see what is outputted"
   ]
  },
  {
   "cell_type": "markdown",
   "id": "de2dc01e",
   "metadata": {},
   "source": [
    "2."
   ]
  },
  {
   "cell_type": "code",
   "execution_count": 199,
   "id": "ac7b3205",
   "metadata": {},
   "outputs": [],
   "source": [
    "def translate_function(string_nucleotides): #Defining my function\n",
    "    mito_table = CodonTable.unambiguous_dna_by_name[\"Vertebrate Mitochondrial\"] #Setting my codon table.\n",
    "    aa_seq_string=\"\" #Creating an empty string which will store the nucleotides as my loop goes through.\n",
    "    for i in range(0, len(string_nucleotides),3): #Setting my starting position at 0\n",
    "            codon = string_nucleotides[i:i +3] #Defining what a codon is \n",
    "            if codon in [\"AGG\", \"AGA\",\"TAA\",\"TAG\"]:#Telling my loop to stop on a stop codon\n",
    "                print('STOP')\n",
    "                break\n",
    "            else: \n",
    "                aa_seq_string += mito_table.forward_table[codon] #Will take the codon and add it to my growing list as it loops through\n",
    "                print(aa_seq_string)\n",
    "    return(aa_seq_string) #Displaying \n",
    "#Resource used https://stackoverflow.com/questions/64360483/python-translating-nucleotide-to-amino-acid"
   ]
  },
  {
   "cell_type": "code",
   "execution_count": 264,
   "id": "421fbb05",
   "metadata": {},
   "outputs": [],
   "source": [
    "sequence = \"AGTTCCAGGCTC\" #Creating a sequence including a stop codon"
   ]
  },
  {
   "cell_type": "code",
   "execution_count": 279,
   "id": "af7db814",
   "metadata": {},
   "outputs": [
    {
     "name": "stdout",
     "output_type": "stream",
     "text": [
      "S\n",
      "SS\n",
      "STOP\n"
     ]
    },
    {
     "data": {
      "text/plain": [
       "'SS'"
      ]
     },
     "execution_count": 279,
     "metadata": {},
     "output_type": "execute_result"
    }
   ],
   "source": [
    "translate_function(sequence) #Using my function\n"
   ]
  },
  {
   "cell_type": "markdown",
   "id": "3e1c9339",
   "metadata": {},
   "source": [
    "3."
   ]
  },
  {
   "cell_type": "code",
   "execution_count": 206,
   "id": "d660a696",
   "metadata": {},
   "outputs": [],
   "source": [
    "from Bio.Seq import translate #Importing a module to translate my function\n",
    "# Used https://biopython.org/docs/dev/api/Bio.Seq.html as a resource"
   ]
  },
  {
   "cell_type": "code",
   "execution_count": 272,
   "id": "a2d33abd",
   "metadata": {},
   "outputs": [],
   "source": [
    "def translate(string_nucleotides):\n",
    "    aa_seq_string=\"\" #Creating an empty string where my results will be stored\n",
    "    aa_seq_string = Seq.translate(string_nucleotides, table =2) #this string will then be translated by the Bio.Seq translate function using codon table 2 (found by printing table in earlier steps)\n",
    "    print(aa_seq_string)\n",
    "    return(aa_seq_string)\n"
   ]
  },
  {
   "cell_type": "code",
   "execution_count": 278,
   "id": "e6b35616",
   "metadata": {},
   "outputs": [
    {
     "name": "stdout",
     "output_type": "stream",
     "text": [
      "SS*L\n"
     ]
    },
    {
     "data": {
      "text/plain": [
       "Seq('SS*L')"
      ]
     },
     "execution_count": 278,
     "metadata": {},
     "output_type": "execute_result"
    }
   ],
   "source": [
    "translate(sequence) #Using translate on the sequence I created yay both my loop Bio.Seq translate have the same a.a."
   ]
  },
  {
   "cell_type": "markdown",
   "id": "73baacd1",
   "metadata": {},
   "source": [
    "4."
   ]
  },
  {
   "cell_type": "code",
   "execution_count": 179,
   "id": "bfda20f7",
   "metadata": {},
   "outputs": [],
   "source": [
    "from Bio.SeqUtils.ProtParam import ProteinAnalysis"
   ]
  },
  {
   "cell_type": "code",
   "execution_count": 379,
   "id": "350b452c",
   "metadata": {},
   "outputs": [],
   "source": [
    "def compute_molecular_weight(aa_seq):\n",
    "       \n",
    "        MW_aa = ProteinAnalysis(str(aa_seq)) #Creating a string to be able to use protein analysis\n",
    "        weight = MW_aa.molecular_weight() #Calculating molecular weight\n",
    "        print (weight)\n",
    "        return(weight)"
   ]
  },
  {
   "cell_type": "code",
   "execution_count": 380,
   "id": "63ad7dd7",
   "metadata": {},
   "outputs": [
    {
     "name": "stdout",
     "output_type": "stream",
     "text": [
      "1047.2083\n"
     ]
    },
    {
     "data": {
      "text/plain": [
       "1047.2083"
      ]
     },
     "execution_count": 380,
     "metadata": {},
     "output_type": "execute_result"
    }
   ],
   "source": [
    "compute_molecular_weight(sequence) #testing the function"
   ]
  },
  {
   "cell_type": "markdown",
   "id": "fc56231a",
   "metadata": {},
   "source": [
    "5."
   ]
  },
  {
   "cell_type": "code",
   "execution_count": 341,
   "id": "35daeac3",
   "metadata": {},
   "outputs": [],
   "source": [
    "from Bio.SeqUtils import GC"
   ]
  },
  {
   "cell_type": "code",
   "execution_count": 343,
   "id": "6462c6b8",
   "metadata": {},
   "outputs": [],
   "source": [
    "def GC_content(seq): #Defining my function\n",
    "    DNA = \"\" #Creating empty string that will hold my loop.\n",
    "    DNA = GC(seq) #using the GC function from Bio.SeqUtils GC\n",
    "    print(DNA)\n",
    "    return(DNA)"
   ]
  },
  {
   "cell_type": "code",
   "execution_count": 381,
   "id": "e3ad3ef3",
   "metadata": {},
   "outputs": [
    {
     "name": "stdout",
     "output_type": "stream",
     "text": [
      "58.333333333333336\n"
     ]
    },
    {
     "data": {
      "text/plain": [
       "58.333333333333336"
      ]
     },
     "execution_count": 381,
     "metadata": {},
     "output_type": "execute_result"
    }
   ],
   "source": [
    "GC_content(sequence) #testing the function"
   ]
  },
  {
   "cell_type": "markdown",
   "id": "fc014c05",
   "metadata": {},
   "source": [
    "6. "
   ]
  },
  {
   "cell_type": "code",
   "execution_count": 427,
   "id": "9274cac1",
   "metadata": {},
   "outputs": [],
   "source": [
    "cytb_seq= get_sequences_from_file(\"penguins_cytb.fasta\") "
   ]
  },
  {
   "cell_type": "code",
   "execution_count": 424,
   "id": "928d8ac5",
   "metadata": {},
   "outputs": [],
   "source": [
    "penguins_df = pd.read_csv(\"penguins_mass.csv\") # Includes only data for body mass\n",
    "species_list = list(penguins_df.species)"
   ]
  },
  {
   "cell_type": "code",
   "execution_count": 405,
   "id": "70c0e47d",
   "metadata": {},
   "outputs": [],
   "source": [
    "import numpy as np"
   ]
  },
  {
   "cell_type": "code",
   "execution_count": 382,
   "id": "50615c12",
   "metadata": {},
   "outputs": [
    {
     "name": "stdout",
     "output_type": "stream",
     "text": [
      "{'Aptenodytes forsteri': Seq('ATGGCCCCAAATCTCCGAAAATCCCATCCCCTCCTAAAAATAATTAATAACTCC...TAA'), 'Aptenodytes patagonicus': Seq('ATGGCCCCAAACCTCCGAAAATCCCATCCTCTCCTAAAAATAATTAATAACTCC...TAA'), 'Eudyptes chrysocome': Seq('ATGGCCCCCAACCTCCGAAAATCCCACCCCCTCCTAAAAACAATCAATAACTCC...TAA'), 'Eudyptes chrysolophus': Seq('ATGGCCCCCAACCTCCGAAAATCCCACCCCCTCCTAAAAACAATCAATAACTCC...TAA'), 'Eudyptes sclateri': Seq('ATGGCCCCCAACCTCCGAAAATCCCACCCCCTCCTAAAAACAATCAATAACTCC...TAA'), 'Eudyptula minor': Seq('ATGGCCCCCAACCTCCGAAAATCTCACCCCCTCCTAAAAATAATCAACAACTCT...TAA'), 'Pygoscelis adeliae': Seq('ATGGCCCCCAACCTCCGAAAATCCCACCCTCTCCTAAAAATAATTAACAACTCC...TAA'), 'Pygoscelis antarctica': Seq('ATGGCCCCCAACCTCCGAAAATCCCACCCTCTCCTAAAAATAATCAACAACTCC...TAG'), 'Pygoscelis papua': Seq('ATGGCCCCCAACCTTCGAAAATCCCACCCTCTCCTAAAAATAATCAACAAATCC...TAG'), 'Spheniscus demersus': Seq('ATGGCCCCCAACCTCCGAAAATCCCACCCTCTCCTAAAAACAATCAACAACTCC...TAA'), 'Spheniscus humboldti': Seq('ATGGCCCCCAACCTCCGAAAATCCCACCCTCTCCTAAAAACAATCAACAACTCC...TAA'), 'Spheniscus magellanicus': Seq('ATGGCCCCCAACCTCCGAAAATCCCACCCTCTCCTAAAAACAATCAACAACTCC...TAA')}\n"
     ]
    }
   ],
   "source": [
    "print(cytb_seq)"
   ]
  },
  {
   "cell_type": "code",
   "execution_count": 411,
   "id": "254de526",
   "metadata": {},
   "outputs": [
    {
     "name": "stdout",
     "output_type": "stream",
     "text": [
      "                    species   mass\n",
      "0      Aptenodytes forsteri  28.00\n",
      "1   Aptenodytes patagonicus  13.40\n",
      "2       Eudyptes chrysocome   2.80\n",
      "3     Eudyptes chrysolophus   4.50\n",
      "4         Eudyptes sclateri   4.25\n",
      "5           Eudyptula minor   1.60\n",
      "6        Pygoscelis adeliae   4.60\n",
      "7     Pygoscelis antarctica   4.10\n",
      "8          Pygoscelis papua   6.10\n",
      "9       Spheniscus demersus   3.20\n",
      "10     Spheniscus humboldti   4.75\n",
      "11  Spheniscus magellanicus   3.40\n"
     ]
    }
   ],
   "source": [
    "print(penguins_df)"
   ]
  },
  {
   "cell_type": "code",
   "execution_count": 415,
   "id": "56c63f19",
   "metadata": {},
   "outputs": [],
   "source": [
    " penguins_df['Molecular_Weight'] = 'NaN' #Adding Molecular_Weight column"
   ]
  },
  {
   "cell_type": "code",
   "execution_count": 417,
   "id": "08f1bf44",
   "metadata": {},
   "outputs": [],
   "source": [
    "penguins_df['GC_Content'] = 'NaN' #Adding GC_Content columns"
   ]
  },
  {
   "cell_type": "code",
   "execution_count": 418,
   "id": "51697edb",
   "metadata": {},
   "outputs": [
    {
     "name": "stdout",
     "output_type": "stream",
     "text": [
      "                    species   mass Molecular_Weight GC_Content\n",
      "0      Aptenodytes forsteri  28.00              NaN        NaN\n",
      "1   Aptenodytes patagonicus  13.40              NaN        NaN\n",
      "2       Eudyptes chrysocome   2.80              NaN        NaN\n",
      "3     Eudyptes chrysolophus   4.50              NaN        NaN\n",
      "4         Eudyptes sclateri   4.25              NaN        NaN\n",
      "5           Eudyptula minor   1.60              NaN        NaN\n",
      "6        Pygoscelis adeliae   4.60              NaN        NaN\n",
      "7     Pygoscelis antarctica   4.10              NaN        NaN\n",
      "8          Pygoscelis papua   6.10              NaN        NaN\n",
      "9       Spheniscus demersus   3.20              NaN        NaN\n",
      "10     Spheniscus humboldti   4.75              NaN        NaN\n",
      "11  Spheniscus magellanicus   3.40              NaN        NaN\n"
     ]
    }
   ],
   "source": [
    "print(penguins_df) #Checking to see if it was added"
   ]
  },
  {
   "cell_type": "code",
   "execution_count": null,
   "id": "94a311c8",
   "metadata": {},
   "outputs": [],
   "source": []
  },
  {
   "cell_type": "markdown",
   "id": "5f0877be",
   "metadata": {},
   "source": [
    "7."
   ]
  },
  {
   "cell_type": "code",
   "execution_count": 441,
   "id": "73405ea6",
   "metadata": {},
   "outputs": [],
   "source": [
    "for key, value in cytb_seq.items():\n",
    "    aa_seq = translate_function(value) # function #2\n",
    "    MW_aa = ProteinAnalysis(str(aa_seq)) #Creating a string to be able to use protein analysis\n",
    "    weight = MW_aa.molecular_weight()\n",
    "    DNA = GC(aa_seq)\n",
    "    penguins_df[\"Molecular_Weight\"] = weight\n",
    "    penguins_df[\"GC_Content\"] = DNA #Wasn't able to get my loop to work "
   ]
  },
  {
   "cell_type": "code",
   "execution_count": 439,
   "id": "711b8c2d",
   "metadata": {},
   "outputs": [
    {
     "name": "stdout",
     "output_type": "stream",
     "text": [
      "                    species   mass  Molecular_Weight  GC_Content\n",
      "0      Aptenodytes forsteri  28.00       551904.8033   13.481781\n",
      "1   Aptenodytes patagonicus  13.40       551904.8033   13.481781\n",
      "2       Eudyptes chrysocome   2.80       551904.8033   13.481781\n",
      "3     Eudyptes chrysolophus   4.50       551904.8033   13.481781\n",
      "4         Eudyptes sclateri   4.25       551904.8033   13.481781\n",
      "5           Eudyptula minor   1.60       551904.8033   13.481781\n",
      "6        Pygoscelis adeliae   4.60       551904.8033   13.481781\n",
      "7     Pygoscelis antarctica   4.10       551904.8033   13.481781\n",
      "8          Pygoscelis papua   6.10       551904.8033   13.481781\n",
      "9       Spheniscus demersus   3.20       551904.8033   13.481781\n",
      "10     Spheniscus humboldti   4.75       551904.8033   13.481781\n",
      "11  Spheniscus magellanicus   3.40       551904.8033   13.481781\n"
     ]
    }
   ],
   "source": [
    "print(penguins_df)"
   ]
  },
  {
   "cell_type": "markdown",
   "id": "ce718571",
   "metadata": {},
   "source": [
    "8."
   ]
  },
  {
   "cell_type": "code",
   "execution_count": 442,
   "id": "4852862a",
   "metadata": {},
   "outputs": [],
   "source": [
    "import matplotlib.pyplot as plt #importing libary that I will use to create plots \n",
    "import seaborn as sns"
   ]
  },
  {
   "cell_type": "code",
   "execution_count": 480,
   "id": "28ae66da",
   "metadata": {},
   "outputs": [
    {
     "data": {
      "text/plain": [
       "(array([ 0,  1,  2,  3,  4,  5,  6,  7,  8,  9, 10, 11]),\n",
       " [Text(0, 0, 'Aptenodytes forsteri'),\n",
       "  Text(1, 0, 'Aptenodytes patagonicus'),\n",
       "  Text(2, 0, 'Eudyptes chrysocome'),\n",
       "  Text(3, 0, 'Eudyptes chrysolophus'),\n",
       "  Text(4, 0, 'Eudyptes sclateri'),\n",
       "  Text(5, 0, 'Eudyptula minor'),\n",
       "  Text(6, 0, 'Pygoscelis adeliae'),\n",
       "  Text(7, 0, 'Pygoscelis antarctica'),\n",
       "  Text(8, 0, 'Pygoscelis papua'),\n",
       "  Text(9, 0, 'Spheniscus demersus'),\n",
       "  Text(10, 0, 'Spheniscus humboldti'),\n",
       "  Text(11, 0, 'Spheniscus magellanicus')])"
      ]
     },
     "execution_count": 480,
     "metadata": {},
     "output_type": "execute_result"
    },
    {
     "data": {
      "image/png": "[encoded data removed]",
      "text/plain": [
       "<Figure size 640x480 with 1 Axes>"
      ]
     },
     "metadata": {},
     "output_type": "display_data"
    }
   ],
   "source": [
    "sns.barplot(x='species',  y='mass', data = penguins_df) #resource used https://www.geeksforgeeks.org/seaborn-barplot-method-in-python/\n",
    "plt.xticks(fontsize=10, rotation=90) #used smaller font size and then rotated the labels for better vizualization"
   ]
  },
  {
   "cell_type": "markdown",
   "id": "5b769d5f",
   "metadata": {},
   "source": [
    "1. Smallest penguin is the Eudyptes minor.\n",
    "2. Biggest penguin is the Aptenodytes forsteri"
   ]
  },
  {
   "cell_type": "markdown",
   "id": "467b9d87",
   "metadata": {},
   "source": [
    "9."
   ]
  },
  {
   "cell_type": "code",
   "execution_count": 481,
   "id": "6d343cbd",
   "metadata": {},
   "outputs": [
    {
     "data": {
      "text/plain": [
       "<seaborn.axisgrid.FacetGrid at 0x7f8815f865f0>"
      ]
     },
     "execution_count": 481,
     "metadata": {},
     "output_type": "execute_result"
    },
    {
     "data": {
      "image/png": "[encoded data removed]",
      "text/plain": [
       "<Figure size 500x500 with 1 Axes>"
      ]
     },
     "metadata": {},
     "output_type": "display_data"
    }
   ],
   "source": [
    "sns.lmplot(data=penguins_df, x=\"GC_Content\",y=\"Molecular_Weight\") #Resource https://seaborn.pydata.org/generated/seaborn.lmplot.html\n",
    "#Only one dot is shown due to not getting for loop to work."
   ]
  },
  {
   "cell_type": "markdown",
   "id": "183c103c",
   "metadata": {},
   "source": [
    "10. "
   ]
  },
  {
   "cell_type": "code",
   "execution_count": 482,
   "id": "cb6623a3",
   "metadata": {},
   "outputs": [],
   "source": [
    "penguins_df.to_csv('LM_penguins.csv')"
   ]
  }
 ],
 "metadata": {
  "kernelspec": {
   "display_name": "Python 3 (ipykernel)",
   "language": "python",
   "name": "python3"
  },
  "language_info": {
   "codemirror_mode": {
    "name": "ipython",
    "version": 3
   },
   "file_extension": ".py",
   "mimetype": "text/x-python",
   "name": "python",
   "nbconvert_exporter": "python",
   "pygments_lexer": "ipython3",
   "version": "3.10.10"
  }
 },
 "nbformat": 4,
 "nbformat_minor": 5
}
